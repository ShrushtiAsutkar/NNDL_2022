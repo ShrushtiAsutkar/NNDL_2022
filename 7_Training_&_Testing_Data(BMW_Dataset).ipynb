{
  "nbformat": 4,
  "nbformat_minor": 0,
  "metadata": {
    "colab": {
      "name": "7 Training_&_Testing_Data(BMW_Dataset).ipynb",
      "provenance": [],
      "authorship_tag": "ABX9TyPkHA/hEjscwXZV2SRuA52V",
      "include_colab_link": true
    },
    "kernelspec": {
      "name": "python3",
      "display_name": "Python 3"
    },
    "language_info": {
      "name": "python"
    }
  },
  "cells": [
    {
      "cell_type": "markdown",
      "metadata": {
        "id": "view-in-github",
        "colab_type": "text"
      },
      "source": [
        "<a href=\"https://colab.research.google.com/github/ShrushtiAsutkar/NNDL_2022/blob/master/7_Training_%26_Testing_Data(BMW_Dataset).ipynb\" target=\"_parent\"><img src=\"https://colab.research.google.com/assets/colab-badge.svg\" alt=\"Open In Colab\"/></a>"
      ]
    },
    {
      "cell_type": "code",
      "source": [
        "import pandas as pd\n",
        "df = pd.read_csv(\"/content/carprices.csv\")\n",
        "df"
      ],
      "metadata": {
        "id": "yV1GUtp-5qIC"
      },
      "execution_count": null,
      "outputs": []
    },
    {
      "cell_type": "code",
      "source": [
        "import matplotlib.pyplot as plt\n",
        "%matplotlib inline"
      ],
      "metadata": {
        "id": "x9NMnGmaA9-R"
      },
      "execution_count": null,
      "outputs": []
    },
    {
      "cell_type": "code",
      "source": [
        "#Plots a graph of  Car Mileage Vs Sell Price ($) \n",
        "plt.scatter(df['Mileage'],df['Sell Price($)'])"
      ],
      "metadata": {
        "id": "XEjX9m4lA_BZ"
      },
      "execution_count": null,
      "outputs": []
    },
    {
      "cell_type": "code",
      "source": [
        "#Plots a graph of Car Age Vs Sell Price ($)\n",
        "plt.scatter(df['Age(yrs)'],df['Sell Price($)'])"
      ],
      "metadata": {
        "id": "LcGpVl2LBAcx"
      },
      "execution_count": null,
      "outputs": []
    },
    {
      "cell_type": "markdown",
      "source": [
        "Looking at above two scatter plots, using linear regression model makes sense as we can clearly see a linear relationship between our dependant (i.e. Sell Price) and independant variables (i.e. car age and car mileage)\n",
        "\n",
        "The approach we are going to use here is to split available data in two sets\n",
        "\n",
        "Training: We will train our model on this dataset\n",
        "Testing: We will use this subset to make actual predictions using trained model\n",
        "The reason we don't use same training set for testing is because our model has seen those samples before, using same samples for making predictions might give us wrong impression about accuracy of our model. It is like you ask same questions in exam paper as you tought the students in the class."
      ],
      "metadata": {
        "id": "MZKXzhrKBCyR"
      }
    },
    {
      "cell_type": "code",
      "source": [
        "X = df[['Mileage','Age(yrs)']]\n",
        "y = df['Sell Price($)']\n",
        "from sklearn.model_selection import train_test_split\n",
        "X_train, X_test, y_train, y_test = train_test_split(X,y,test_size=0.3)\n",
        "X_train"
      ],
      "metadata": {
        "id": "FEUUxO3VBFnq"
      },
      "execution_count": null,
      "outputs": []
    },
    {
      "cell_type": "code",
      "source": [
        "X_test"
      ],
      "metadata": {
        "id": "EtL2u8NpBGsJ"
      },
      "execution_count": null,
      "outputs": []
    },
    {
      "cell_type": "code",
      "source": [
        "y_train"
      ],
      "metadata": {
        "id": "59tqql1YBJOY"
      },
      "execution_count": null,
      "outputs": []
    },
    {
      "cell_type": "code",
      "source": [
        "y_test"
      ],
      "metadata": {
        "id": "_4vUlhzmBKi7"
      },
      "execution_count": null,
      "outputs": []
    },
    {
      "cell_type": "code",
      "source": [
        "from sklearn.linear_model import LinearRegression\n",
        "clf = LinearRegression()\n",
        "clf.fit(X_train, y_train)"
      ],
      "metadata": {
        "id": "GhzPCC6wBL46"
      },
      "execution_count": null,
      "outputs": []
    },
    {
      "cell_type": "code",
      "source": [
        "X_test"
      ],
      "metadata": {
        "id": "LDtfNiesBNJh"
      },
      "execution_count": null,
      "outputs": []
    },
    {
      "cell_type": "code",
      "source": [
        "clf.predict(X_test)"
      ],
      "metadata": {
        "id": "N4MF3FSzBSA5"
      },
      "execution_count": null,
      "outputs": []
    },
    {
      "cell_type": "code",
      "source": [
        "y_test"
      ],
      "metadata": {
        "id": "zv2pfysGBToY"
      },
      "execution_count": null,
      "outputs": []
    },
    {
      "cell_type": "code",
      "source": [
        "clf.score(X_test, y_test)"
      ],
      "metadata": {
        "id": "xd0yznZkBVF8"
      },
      "execution_count": null,
      "outputs": []
    },
    {
      "cell_type": "code",
      "source": [
        "X_train, X_test, y_train, y_test = train_test_split(X,y,test_size=0.3,random_state=10)\n",
        "X_test"
      ],
      "metadata": {
        "id": "lWb9DB2pBWb7"
      },
      "execution_count": null,
      "outputs": []
    }
  ]
}